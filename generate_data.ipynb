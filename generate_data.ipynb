{
 "cells": [
  {
   "cell_type": "code",
   "execution_count": 16,
   "metadata": {},
   "outputs": [],
   "source": [
    "import random\n",
    "\n",
    "ticker_set = set(list(range(0, 100)))\n",
    "\n",
    "def generate_data(num_user):\n",
    "    f = open(\"stock_users.dat\",\"w+\")\n",
    "    for i in range(num_user):\n",
    "        tickers = random.sample(ticker_set, 10)\n",
    "        for ticker in tickers:\n",
    "            f.write(str(i) + \"::\" + str(ticker) + \"::1::\" + str(ticker) + \"\\n\")\n",
    "        \n",
    "        \n",
    "generate_data(1000)"
   ]
  },
  {
   "cell_type": "code",
   "execution_count": null,
   "metadata": {
    "collapsed": true
   },
   "outputs": [],
   "source": []
  }
 ],
 "metadata": {
  "kernelspec": {
   "display_name": "Python 3",
   "language": "python",
   "name": "python3"
  },
  "language_info": {
   "codemirror_mode": {
    "name": "ipython",
    "version": 3
   },
   "file_extension": ".py",
   "mimetype": "text/x-python",
   "name": "python",
   "nbconvert_exporter": "python",
   "pygments_lexer": "ipython3",
   "version": "3.6.1"
  }
 },
 "nbformat": 4,
 "nbformat_minor": 2
}
