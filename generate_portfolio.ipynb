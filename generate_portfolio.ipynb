{
 "cells": [
  {
   "cell_type": "code",
   "execution_count": 23,
   "metadata": {},
   "outputs": [],
   "source": [
    "import random\n",
    "\n",
    "def generate_data(stocks):\n",
    "    with open('stock_users.dat', 'a') as file:\n",
    "        for stock_id in range(1, 121):\n",
    "            if stock_id in stocks:\n",
    "                file.write(str(1) + \"::\" + str(stock_id) + \"::1::\" + str(stock_id) + \"\\n\")\n",
    "            else:\n",
    "                file.write(str(1) + \"::\" + str(stock_id) + \"::0::\" + str(stock_id) + \"\\n\""
   ]
  },
  {
   "cell_type": "code",
   "execution_count": null,
   "metadata": {
    "collapsed": true
   },
   "outputs": [],
   "source": []
  }
 ],
 "metadata": {
  "kernelspec": {
   "display_name": "Python 3",
   "language": "python",
   "name": "python3"
  },
  "language_info": {
   "codemirror_mode": {
    "name": "ipython",
    "version": 3
   },
   "file_extension": ".py",
   "mimetype": "text/x-python",
   "name": "python",
   "nbconvert_exporter": "python",
   "pygments_lexer": "ipython3",
   "version": "3.6.1"
  }
 },
 "nbformat": 4,
 "nbformat_minor": 2
}
