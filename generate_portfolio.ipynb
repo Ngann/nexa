{
 "cells": [
  {
   "cell_type": "code",
   "execution_count": 7,
   "metadata": {},
   "outputs": [
    {
     "name": "stdout",
     "output_type": "stream",
     "text": [
      "999\n"
     ]
    }
   ],
   "source": [
    "fileHandle = open ( 'stock_users.dat',\"r\" )\n",
    "lineList = fileHandle.readlines()\n",
    "fileHandle.close()\n",
    "# or simply\n",
    "str1 = lineList[-1]\n",
    "str1 = str1.split(\"::\")\n",
    "print(str1[0])"
   ]
  },
  {
   "cell_type": "code",
   "execution_count": null,
   "metadata": {
    "collapsed": true
   },
   "outputs": [],
   "source": [
    "import random\n",
    "\n",
    "def generate_data(stocks):\n",
    "    with open('file.txt', 'a') as file:\n",
    "        line_list = file.readlines()\n",
    "        last_line = line_list[-1]\n",
    "        last_index = str1.split(\"::\")\n",
    "        for stock_id in range(1, 121):\n",
    "            if stock_id in stocks:\n",
    "                f.write(str(i) + \"::\" + str(stock_id) + \"::1::\" + str(stock_id) + \"\\n\")\n",
    "            else:\n",
    "                f.write(str(i) + \"::\" + str(stock_id) + \"::0::\" + str(stock_id) + \"\\n\")\n"
   ]
  }
 ],
 "metadata": {
  "kernelspec": {
   "display_name": "Python 3",
   "language": "python",
   "name": "python3"
  },
  "language_info": {
   "codemirror_mode": {
    "name": "ipython",
    "version": 3
   },
   "file_extension": ".py",
   "mimetype": "text/x-python",
   "name": "python",
   "nbconvert_exporter": "python",
   "pygments_lexer": "ipython3",
   "version": "3.6.1"
  }
 },
 "nbformat": 4,
 "nbformat_minor": 2
}
