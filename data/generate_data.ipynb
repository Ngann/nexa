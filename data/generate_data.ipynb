{
 "cells": [
  {
   "cell_type": "code",
   "execution_count": 24,
   "metadata": {},
   "outputs": [],
   "source": [
    "import random\n",
    "\n",
    "ticker_set = set(list(range(1, 120 + 1)))\n",
    "\n",
    "def generate_data(num_user):\n",
    "    f = open(\"stock_users.dat\",\"w+\")\n",
    "    for i in range(1,num_user):\n",
    "        tickers = random.sample(ticker_set, 10)\n",
    "        for stock_id in range(1, len(ticker_set)):\n",
    "            if stock_id in tickers:\n",
    "                f.write(str(i) + \"::\" + str(stock_id) + \"::1::\" + str(stock_id) + \"\\n\")\n",
    "            else:\n",
    "                f.write(str(i) + \"::\" + str(stock_id) + \"::0::\" + str(stock_id) + \"\\n\")   \n",
    "        \n",
    "generate_data(1000)"
   ]
  },
  {
   "cell_type": "code",
   "execution_count": null,
   "metadata": {
    "collapsed": true
   },
   "outputs": [],
   "source": []
  }
 ],
 "metadata": {
  "kernelspec": {
   "display_name": "Python 3",
   "language": "python",
   "name": "python3"
  },
  "language_info": {
   "codemirror_mode": {
    "name": "ipython",
    "version": 3
   },
   "file_extension": ".py",
   "mimetype": "text/x-python",
   "name": "python",
   "nbconvert_exporter": "python",
   "pygments_lexer": "ipython3",
   "version": "3.6.1"
  }
 },
 "nbformat": 4,
 "nbformat_minor": 2
}
